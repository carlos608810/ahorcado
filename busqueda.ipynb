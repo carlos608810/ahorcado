{
  "nbformat": 4,
  "nbformat_minor": 0,
  "metadata": {
    "colab": {
      "provenance": [],
      "authorship_tag": "ABX9TyOjvsG09xEFzMJHgpQNFOpw",
      "include_colab_link": true
    },
    "kernelspec": {
      "name": "python3",
      "display_name": "Python 3"
    },
    "language_info": {
      "name": "python"
    }
  },
  "cells": [
    {
      "cell_type": "markdown",
      "metadata": {
        "id": "view-in-github",
        "colab_type": "text"
      },
      "source": [
        "<a href=\"https://colab.research.google.com/github/carlos608810/ahorcado/blob/main/busqueda.ipynb\" target=\"_parent\"><img src=\"https://colab.research.google.com/assets/colab-badge.svg\" alt=\"Open In Colab\"/></a>"
      ]
    },
    {
      "cell_type": "code",
      "execution_count": null,
      "metadata": {
        "id": "4YYkew4zFWcV"
      },
      "outputs": [],
      "source": [
        "def busqueda_lineal(lista, objetivo):\n",
        "  \"\"\"\n",
        "  Esta función realiza una búsqueda lineal en una lista.\n",
        "\n",
        "  Args:\n",
        "    lista: La lista en la que se buscará.\n",
        "    objetivo: El valor que se buscará en la lista.\n",
        "\n",
        "  Returns:\n",
        "    El índice del objetivo en la lista, o -1 si el objetivo no se encuentra en la lista.\n",
        "  \"\"\"\n",
        "  for i in range(len(lista)):\n",
        "    if lista[i] == objetivo:\n",
        "      return i\n",
        "  return -1\n",
        "\n",
        "\n",
        "lista = [1, 2, 3, 4, 5]\n",
        "objetivo = 3\n",
        "\n",
        "indice = busqueda_lineal(lista, objetivo)\n",
        "\n",
        "if indice != -1:\n",
        "  print(f\"El objetivo {objetivo} se encuentra en el índice {indice}.\")\n",
        "else:\n",
        "  print(f\"El objetivo {objetivo} no se encuentra en la lista.\")"
      ]
    }
  ]
}