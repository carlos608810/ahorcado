{
  "nbformat": 4,
  "nbformat_minor": 0,
  "metadata": {
    "colab": {
      "provenance": [],
      "authorship_tag": "ABX9TyP5gagdvGCurhML9dWJWkiP",
      "include_colab_link": true
    },
    "kernelspec": {
      "name": "python3",
      "display_name": "Python 3"
    },
    "language_info": {
      "name": "python"
    }
  },
  "cells": [
    {
      "cell_type": "markdown",
      "metadata": {
        "id": "view-in-github",
        "colab_type": "text"
      },
      "source": [
        "<a href=\"https://colab.research.google.com/github/carlos608810/ahorcado/blob/main/ahorcado.ipynb\" target=\"_parent\"><img src=\"https://colab.research.google.com/assets/colab-badge.svg\" alt=\"Open In Colab\"/></a>"
      ]
    },
    {
      "cell_type": "code",
      "execution_count": null,
      "metadata": {
        "id": "YOZJvH-UE4QS"
      },
      "outputs": [],
      "source": [
        "import random\n",
        "\n",
        "def elegir_palabra():\n",
        "    palabras = [\"manzana\", \"banana\", \"naranja\", \"uva\", \"sandia\", \"kiwi\"]\n",
        "    return random.choice(palabras)\n",
        "\n",
        "def mostrar_tablero(palabra_secreta, letras_adivinadas):\n",
        "    tablero = \"\"\n",
        "    for letra in palabra_secreta:\n",
        "        if letra in letras_adivinadas:\n",
        "            tablero += letra + \" \"\n",
        "        else:\n",
        "            tablero += \"_ \"\n",
        "    print(tablero)\n",
        "\n",
        "def jugar_ahorcado():\n",
        "    palabra_secreta = elegir_palabra()\n",
        "    letras_adivinadas = []\n",
        "    intentos_restantes = 6\n",
        "\n",
        "    print(\"¡Bienvenido al juego del Ahorcado!\")\n",
        "    print(f\"La palabra tiene {len(palabra_secreta)} letras.\")\n",
        "\n",
        "    while intentos_restantes > 0:\n",
        "        print(\"\\nIntentos restantes:\", intentos_restantes)\n",
        "        mostrar_tablero(palabra_secreta, letras_adivinadas)\n",
        "\n",
        "        intento = input(\"Ingresa una letra: \").lower()\n",
        "\n",
        "        if len(intento) != 1 or not intento.isalpha():\n",
        "            print(\"Por favor, ingresa una sola letra válida.\")\n",
        "            continue\n",
        "\n",
        "        if intento in letras_adivinadas:\n",
        "            print(\"Ya has intentado esa letra.\")\n",
        "            continue\n",
        "\n",
        "        letras_adivinadas.append(intento)\n",
        "\n",
        "        if intento in palabra_secreta:\n",
        "            print(\"¡Correcto!\")\n",
        "            if all(letra in letras_adivinadas for letra in palabra_secreta):\n",
        "                print(\"\\n¡Felicidades! Adivinaste la palabra:\", palabra_secreta)\n",
        "                break\n",
        "        else:\n",
        "            intentos_restantes -= 1\n",
        "            print(\"Incorrecto.\")\n",
        "            # Aquí podrías agregar lógica para dibujar el ahorcado\n",
        "\n",
        "    if intentos_restantes == 0:\n",
        "        print(\"\\n¡Perdiste! La palabra era:\", palabra_secreta)\n",
        "\n",
        "if __name__ == \"__main__\":\n",
        "    jugar_ahorcado()"
      ]
    }
  ]
}