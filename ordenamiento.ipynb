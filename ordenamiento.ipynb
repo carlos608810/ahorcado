{
  "nbformat": 4,
  "nbformat_minor": 0,
  "metadata": {
    "colab": {
      "provenance": [],
      "authorship_tag": "ABX9TyODR1ipFSvbtGmtAC4zoVfF",
      "include_colab_link": true
    },
    "kernelspec": {
      "name": "python3",
      "display_name": "Python 3"
    },
    "language_info": {
      "name": "python"
    }
  },
  "cells": [
    {
      "cell_type": "markdown",
      "metadata": {
        "id": "view-in-github",
        "colab_type": "text"
      },
      "source": [
        "<a href=\"https://colab.research.google.com/github/carlos608810/ahorcado/blob/main/ordenamiento.ipynb\" target=\"_parent\"><img src=\"https://colab.research.google.com/assets/colab-badge.svg\" alt=\"Open In Colab\"/></a>"
      ]
    },
    {
      "cell_type": "code",
      "execution_count": null,
      "metadata": {
        "id": "4YYkew4zFWcV"
      },
      "outputs": [],
      "source": [
        "def ordenamiento_de_burbuja(lista):\n",
        "    n = len(lista)\n",
        "    for i in range(n):\n",
        "\n",
        "        intercambios = False\n",
        "\n",
        "        for j in range(0, n-i-1):\n",
        "\n",
        "            if lista[j] > lista[j + 1]:\n",
        "                lista[j], lista[j + 1] = lista[j + 1], lista[j]\n",
        "                intercambios = True\n",
        "\n",
        "        if not intercambios:\n",
        "            break\n",
        "\n",
        "\n",
        "lista = [64, 34, 25, 12, 22, 11, 90]\n",
        "ordenamiento_de_burbuja(lista)\n",
        "print(\"Lista ordenada:\", lista)"
      ]
    }
  ]
}