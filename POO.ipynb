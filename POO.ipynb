{
  "nbformat": 4,
  "nbformat_minor": 0,
  "metadata": {
    "colab": {
      "provenance": [],
      "authorship_tag": "ABX9TyOZ0kfCq0ewWrcYVV1i65dv",
      "include_colab_link": true
    },
    "kernelspec": {
      "name": "python3",
      "display_name": "Python 3"
    },
    "language_info": {
      "name": "python"
    }
  },
  "cells": [
    {
      "cell_type": "markdown",
      "metadata": {
        "id": "view-in-github",
        "colab_type": "text"
      },
      "source": [
        "<a href=\"https://colab.research.google.com/github/carlos608810/ahorcado/blob/main/POO.ipynb\" target=\"_parent\"><img src=\"https://colab.research.google.com/assets/colab-badge.svg\" alt=\"Open In Colab\"/></a>"
      ]
    },
    {
      "cell_type": "code",
      "execution_count": 7,
      "metadata": {
        "id": "4YYkew4zFWcV"
      },
      "outputs": [],
      "source": [
        "class Producto:\n",
        "    def __init__(self):\n",
        "        self.nombre = \"\"\n",
        "        self.precio = 0.0\n",
        "        self.descripcion = \"\"\n",
        "        self.stock = 0\n",
        "        self.categoria = \"\"\n",
        "\n",
        "    def ingresar_datos(self):\n",
        "        print(\"Ingrese la información del producto:\")\n",
        "        self.nombre = input(\"Nombre: \")\n",
        "        while True:\n",
        "            try:\n",
        "                self.precio = float(input(\"Precio: \"))\n",
        "                if self.precio >= 0:\n",
        "                    break\n",
        "                else:\n",
        "                    print(\"El precio debe ser un número positivo.\")\n",
        "            except ValueError:\n",
        "                print(\"Por favor, ingrese un número válido para el precio.\")\n",
        "        self.descripcion = input(\"Descripción: \")\n",
        "        while True:\n",
        "            try:\n",
        "                self.stock = int(input(\"Stock: \"))\n",
        "                if self.stock >= 0:\n",
        "                    break\n",
        "                else:\n",
        "                    print(\"El stock debe ser un número entero no negativo.\")\n",
        "            except ValueError:\n",
        "                print(\"Por favor, ingrese un número entero válido para el stock.\")\n",
        "        self.categoria = input(\"Categoría: \")\n",
        "        print(\"Información del producto ingresada correctamente.\\n\")\n",
        "\n",
        "    def mostrar_informacion(self):\n",
        "        print(\"Información del Producto:\")\n",
        "        print(f\"Nombre: {self.nombre}\")\n",
        "        print(f\"Precio: ${self.precio:.2f}\")\n",
        "        print(f\"Descripción: {self.descripcion}\")\n",
        "        print(f\"Stock: {self.stock} unidades\")\n",
        "        print(f\"Categoría: {self.categoria}\")"
      ]
    }
  ]
}